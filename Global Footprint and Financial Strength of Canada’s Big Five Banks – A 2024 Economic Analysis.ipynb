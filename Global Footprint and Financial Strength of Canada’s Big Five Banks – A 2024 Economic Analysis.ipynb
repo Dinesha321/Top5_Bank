{
 "cells": [
  {
   "cell_type": "markdown",
   "id": "049dbad4-c6af-4801-a36f-f515ad2b5db3",
   "metadata": {},
   "source": [
    "\n",
    "\n",
    "## 📘 Project Title:\n",
    "\n",
    "#### Global Footprint and Financial Strength of Canada’s Big Five Banks – A 2024 Economic Analysis\n"
   ]
  },
  {
   "cell_type": "markdown",
   "id": "bc04709c-d43f-44e2-bf81-d352e9b79abf",
   "metadata": {},
   "source": [
    "## 🔍 Objective:\n",
    "The purpose of this project is to conduct a detailed analysis of the international presence and financial strength of Canada’s top five banks using 2024 data. This analysis aims to visualize key revenue figures, assess their global exposure, and evaluate their strategic positioning in the context of international markets.\n"
   ]
  },
  {
   "cell_type": "code",
   "execution_count": 1,
   "id": "b255419d-e92c-44f8-9b86-31a7685a98e9",
   "metadata": {},
   "outputs": [
    {
     "data": {
      "text/markdown": [
       "### 📊 Data Used (2024 Estimates):"
      ],
      "text/plain": [
       "<IPython.core.display.Markdown object>"
      ]
     },
     "metadata": {},
     "output_type": "display_data"
    },
    {
     "data": {
      "text/html": [
       "<div>\n",
       "<style scoped>\n",
       "    .dataframe tbody tr th:only-of-type {\n",
       "        vertical-align: middle;\n",
       "    }\n",
       "\n",
       "    .dataframe tbody tr th {\n",
       "        vertical-align: top;\n",
       "    }\n",
       "\n",
       "    .dataframe thead th {\n",
       "        text-align: right;\n",
       "    }\n",
       "</style>\n",
       "<table border=\"1\" class=\"dataframe\">\n",
       "  <thead>\n",
       "    <tr style=\"text-align: right;\">\n",
       "      <th></th>\n",
       "      <th>Bank</th>\n",
       "      <th>Revenue (C$ B)</th>\n",
       "      <th>Net Income (C$ B)</th>\n",
       "      <th>% International Revenue</th>\n",
       "      <th>Source</th>\n",
       "    </tr>\n",
       "  </thead>\n",
       "  <tbody>\n",
       "    <tr>\n",
       "      <th>0</th>\n",
       "      <td>RBC</td>\n",
       "      <td>57.3</td>\n",
       "      <td>16.24</td>\n",
       "      <td>~28%</td>\n",
       "      <td>RBC Annual Report (2024)</td>\n",
       "    </tr>\n",
       "    <tr>\n",
       "      <th>1</th>\n",
       "      <td>TD</td>\n",
       "      <td>52.0</td>\n",
       "      <td>11.00</td>\n",
       "      <td>~35%</td>\n",
       "      <td>TD Investor Relations (2024</td>\n",
       "    </tr>\n",
       "    <tr>\n",
       "      <th>2</th>\n",
       "      <td>Scotiabank</td>\n",
       "      <td>33.7</td>\n",
       "      <td>7.89</td>\n",
       "      <td>~31%</td>\n",
       "      <td>Scotiabank Q4 2024 Report</td>\n",
       "    </tr>\n",
       "    <tr>\n",
       "      <th>3</th>\n",
       "      <td>BMO</td>\n",
       "      <td>31.0</td>\n",
       "      <td>5.00</td>\n",
       "      <td>~25%</td>\n",
       "      <td>BMO Financial Reports (2024)</td>\n",
       "    </tr>\n",
       "    <tr>\n",
       "      <th>4</th>\n",
       "      <td>CIBC</td>\n",
       "      <td>21.0</td>\n",
       "      <td>3.50</td>\n",
       "      <td>~15%</td>\n",
       "      <td>CIBC Investor Centre (2024)</td>\n",
       "    </tr>\n",
       "  </tbody>\n",
       "</table>\n",
       "</div>"
      ],
      "text/plain": [
       "         Bank  Revenue (C$ B)  Net Income (C$ B) % International Revenue  \\\n",
       "0         RBC            57.3              16.24                    ~28%   \n",
       "1          TD            52.0              11.00                    ~35%   \n",
       "2  Scotiabank            33.7               7.89                    ~31%   \n",
       "3         BMO            31.0               5.00                    ~25%   \n",
       "4        CIBC            21.0               3.50                    ~15%   \n",
       "\n",
       "                         Source  \n",
       "0      RBC Annual Report (2024)  \n",
       "1   TD Investor Relations (2024  \n",
       "2     Scotiabank Q4 2024 Report  \n",
       "3  BMO Financial Reports (2024)  \n",
       "4   CIBC Investor Centre (2024)  "
      ]
     },
     "metadata": {},
     "output_type": "display_data"
    }
   ],
   "source": [
    "from IPython.display import display, Markdown\n",
    "import pandas as pd\n",
    "\n",
    "# Title for the table\n",
    "display(Markdown(\"### 📊 Data Used (2024 Estimates):\"))\n",
    "\n",
    "# Define the data\n",
    "data = {\n",
    "    \"Bank\": [\"RBC\", \"TD\", \"Scotiabank\", \"BMO\", \"CIBC\"],\n",
    "    \"Revenue (C$ B)\": [57.3, 52.0, 33.7, 31.0, 21.0],\n",
    "    \"Net Income (C$ B)\": [16.24, 11.0, 7.89, 5.0, 3.5],\n",
    "    \"% International Revenue\": [\"~28%\", \"~35%\", \"~31%\", \"~25%\", \"~15%\"],\n",
    "     \"Source\": [\"RBC Annual Report (2024)\", \"TD Investor Relations (2024\", \"Scotiabank Q4 2024 Report\", \"BMO Financial Reports (2024)\", \"CIBC Investor Centre (2024)\"]\n",
    "    \n",
    "}\n",
    "\n",
    "# 📄 Create DataFrame\n",
    "df = pd.DataFrame(data)\n",
    "\n",
    "# Display the table\n",
    "display(df)"
   ]
  },
  {
   "cell_type": "markdown",
   "id": "1fb4b74f-90cd-4017-bcea-27a025d782e7",
   "metadata": {},
   "source": [
    "## 📈 Tools Used:\n",
    "\n",
    "• Python 3 for data processing and analysis\n",
    "\n",
    "• Jupyter Notebook for code execution and visualization\n",
    "\n",
    "• Matplotlib for generating visual charts and graphs\n"
   ]
  },
  {
   "cell_type": "markdown",
   "id": "2f40c7f4-6ad1-43be-bf30-3f36a721e3c9",
   "metadata": {},
   "source": [
    "## 📌 Methodology:\n",
    "\n",
    "#### 1. Data Collection:\n",
    "\n",
    "   Collected revenue and net income data from each bank’s 2024 financial disclosures and investor relations pages.\n",
    "   \n",
    "#### 3. Data Visualization:\n",
    "\n",
    "Created a dual-axis chart to compare:\n",
    "• Total Revenue (in billions of CAD)\n",
    "• Percentage of international revenue\n",
    "\n",
    "#### 4. Analysis:\n",
    "   \n",
    "• RBC remains the most globally diversified with strong capital markets operations.\n",
    "\n",
    "• TD has significant U.S. exposure via retail and wholesale banking.\n",
    "\n",
    "• Scotiabank earns a large portion of its income from Latin America.\n",
    "\n",
    "• BMO is expanding its U.S. reach after acquiring Bank of the West.\n",
    "\n",
    "• CIBC remains primarily focused on Canadian markets with limited global activity.\n",
    "\n"
   ]
  },
  {
   "cell_type": "markdown",
   "id": "8aba2e80-6587-449a-a8d5-245d1f6c0025",
   "metadata": {},
   "source": [
    "## Key insights:\n",
    "\n",
    "• There is no strict one-to-one correlation between total revenue and international revenue share. For example, TD has slightly less revenue than RBC  \n",
    "  but a much higher percentage of revenue from international markets.\n",
    "  \n",
    "• Banks with higher international revenue exposure (like TD and Scotiabank) may be more diversified globally, which can reduce risks tied to the \n",
    "  the Canadian market alone.\n",
    "    \n",
    "• CIBC relies most heavily on domestic business, given its lower international revenue percentage.\n"
   ]
  },
  {
   "cell_type": "markdown",
   "id": "93010ed8-b399-4202-b93f-da303716def5",
   "metadata": {},
   "source": [
    "## 📝 Conclusion:\n",
    "Through this analysis, I can conclude that RBC and TD are leading the way in terms of global diversification, with a more significant share of revenue coming from international markets. Scotiabank, while smaller in total revenue compared to RBC and TD, demonstrates strategic strength in Latin American markets. BMO is focusing on expanding its U.S. footprint, and CIBC maintains a strong domestic focus with limited international exposure."
   ]
  },
  {
   "cell_type": "markdown",
   "id": "66328546-d10f-4987-b99f-db06a89be23b",
   "metadata": {},
   "source": [
    "## 📚 Citations:\n",
    "\n",
    "1.\tRBC Annual Report (2024). Royal Bank of Canada. (https://www.rbc.com/investor-relations/)\n",
    "2.\tTD Investor Relations (2024). Toronto-Dominion Bank. (https://www.td.com/ca/en/about-td/investor-relations)\n",
    "3.\tScotiabank Q4 2024 Report. Scotiabank. (https://www.scotiabank.com/ca/en/about/investors-shareholders.html)\n",
    "4.\tBMO Financial Reports (2024). (Bank of Montreal. https://www.bmo.com/main/about-bmo/investor-relations/)\n",
    "5.\tCIBC Investor Centre (2024). (Canadian Imperial Bank of Commerce. https://www.cibc.com/en/about-cibc/investor-relations.html)\n"
   ]
  },
  {
   "cell_type": "markdown",
   "id": "0960bf19-26d4-4216-bc90-eaafe0054999",
   "metadata": {},
   "source": [
    "## 📉 Code Snippet (for charts):"
   ]
  },
  {
   "cell_type": "code",
   "execution_count": 1,
   "id": "7f864d84-e4d0-4f60-a1cb-cf2ea6f72a8d",
   "metadata": {
    "scrolled": true
   },
   "outputs": [
    {
     "name": "stdout",
     "output_type": "stream",
     "text": [
      "Requirement already satisfied: seaborn in c:\\users\\thili\\appdata\\local\\programs\\python\\python313\\lib\\site-packages (0.13.2)\n",
      "Requirement already satisfied: matplotlib in c:\\users\\thili\\appdata\\local\\programs\\python\\python313\\lib\\site-packages (3.10.3)\n",
      "Requirement already satisfied: pandas in c:\\users\\thili\\appdata\\local\\programs\\python\\python313\\lib\\site-packages (2.3.1)\n",
      "Requirement already satisfied: numpy!=1.24.0,>=1.20 in c:\\users\\thili\\appdata\\local\\programs\\python\\python313\\lib\\site-packages (from seaborn) (2.3.1)\n",
      "Requirement already satisfied: contourpy>=1.0.1 in c:\\users\\thili\\appdata\\local\\programs\\python\\python313\\lib\\site-packages (from matplotlib) (1.3.2)\n",
      "Requirement already satisfied: cycler>=0.10 in c:\\users\\thili\\appdata\\local\\programs\\python\\python313\\lib\\site-packages (from matplotlib) (0.12.1)\n",
      "Requirement already satisfied: fonttools>=4.22.0 in c:\\users\\thili\\appdata\\local\\programs\\python\\python313\\lib\\site-packages (from matplotlib) (4.59.0)\n",
      "Requirement already satisfied: kiwisolver>=1.3.1 in c:\\users\\thili\\appdata\\local\\programs\\python\\python313\\lib\\site-packages (from matplotlib) (1.4.8)\n",
      "Requirement already satisfied: packaging>=20.0 in c:\\users\\thili\\appdata\\local\\programs\\python\\python313\\lib\\site-packages (from matplotlib) (25.0)\n",
      "Requirement already satisfied: pillow>=8 in c:\\users\\thili\\appdata\\local\\programs\\python\\python313\\lib\\site-packages (from matplotlib) (11.3.0)\n",
      "Requirement already satisfied: pyparsing>=2.3.1 in c:\\users\\thili\\appdata\\local\\programs\\python\\python313\\lib\\site-packages (from matplotlib) (3.2.3)\n",
      "Requirement already satisfied: python-dateutil>=2.7 in c:\\users\\thili\\appdata\\local\\programs\\python\\python313\\lib\\site-packages (from matplotlib) (2.9.0.post0)\n",
      "Requirement already satisfied: pytz>=2020.1 in c:\\users\\thili\\appdata\\local\\programs\\python\\python313\\lib\\site-packages (from pandas) (2025.2)\n",
      "Requirement already satisfied: tzdata>=2022.7 in c:\\users\\thili\\appdata\\local\\programs\\python\\python313\\lib\\site-packages (from pandas) (2025.2)\n",
      "Requirement already satisfied: six>=1.5 in c:\\users\\thili\\appdata\\local\\programs\\python\\python313\\lib\\site-packages (from python-dateutil>=2.7->matplotlib) (1.17.0)\n"
     ]
    }
   ],
   "source": [
    "!pip install seaborn matplotlib pandas\n",
    "%matplotlib inline\n",
    "import matplotlib.pyplot as plt\n",
    "import pandas as pd\n",
    "import seaborn as sns\n",
    "import plotly.graph_objects as go"
   ]
  },
  {
   "cell_type": "code",
   "execution_count": 2,
   "id": "3743bb9f-667e-4370-94a9-b4c92ebaa0a7",
   "metadata": {},
   "outputs": [
    {
     "data": {
      "application/vnd.plotly.v1+json": {
       "config": {
        "plotlyServerURL": "https://plot.ly"
       },
       "data": [
        {
         "marker": {
          "color": "skyblue"
         },
         "name": "Revenue (B CAD)",
         "type": "bar",
         "x": [
          "RBC",
          "TD",
          "Scotiabank",
          "BMO",
          "CIBC"
         ],
         "y": {
          "bdata": "ZmZmZmamTEAAAAAAAABKQJqZmZmZ2UBAAAAAAAAAP0AAAAAAAAA1QA==",
          "dtype": "f8"
         },
         "yaxis": "y"
        },
        {
         "line": {
          "color": "green",
          "width": 3
         },
         "mode": "lines+markers+text",
         "name": "% International Revenue",
         "text": [
          "28%",
          "35%",
          "31%",
          "25%",
          "15%"
         ],
         "textposition": "top center",
         "type": "scatter",
         "x": [
          "RBC",
          "TD",
          "Scotiabank",
          "BMO",
          "CIBC"
         ],
         "y": {
          "bdata": "HCMfGQ8=",
          "dtype": "i1"
         },
         "yaxis": "y2"
        }
       ],
       "layout": {
        "height": 600,
        "legend": {
         "x": 0.01,
         "y": 0.99
        },
        "template": {
         "data": {
          "bar": [
           {
            "error_x": {
             "color": "#2a3f5f"
            },
            "error_y": {
             "color": "#2a3f5f"
            },
            "marker": {
             "line": {
              "color": "white",
              "width": 0.5
             },
             "pattern": {
              "fillmode": "overlay",
              "size": 10,
              "solidity": 0.2
             }
            },
            "type": "bar"
           }
          ],
          "barpolar": [
           {
            "marker": {
             "line": {
              "color": "white",
              "width": 0.5
             },
             "pattern": {
              "fillmode": "overlay",
              "size": 10,
              "solidity": 0.2
             }
            },
            "type": "barpolar"
           }
          ],
          "carpet": [
           {
            "aaxis": {
             "endlinecolor": "#2a3f5f",
             "gridcolor": "#C8D4E3",
             "linecolor": "#C8D4E3",
             "minorgridcolor": "#C8D4E3",
             "startlinecolor": "#2a3f5f"
            },
            "baxis": {
             "endlinecolor": "#2a3f5f",
             "gridcolor": "#C8D4E3",
             "linecolor": "#C8D4E3",
             "minorgridcolor": "#C8D4E3",
             "startlinecolor": "#2a3f5f"
            },
            "type": "carpet"
           }
          ],
          "choropleth": [
           {
            "colorbar": {
             "outlinewidth": 0,
             "ticks": ""
            },
            "type": "choropleth"
           }
          ],
          "contour": [
           {
            "colorbar": {
             "outlinewidth": 0,
             "ticks": ""
            },
            "colorscale": [
             [
              0,
              "#0d0887"
             ],
             [
              0.1111111111111111,
              "#46039f"
             ],
             [
              0.2222222222222222,
              "#7201a8"
             ],
             [
              0.3333333333333333,
              "#9c179e"
             ],
             [
              0.4444444444444444,
              "#bd3786"
             ],
             [
              0.5555555555555556,
              "#d8576b"
             ],
             [
              0.6666666666666666,
              "#ed7953"
             ],
             [
              0.7777777777777778,
              "#fb9f3a"
             ],
             [
              0.8888888888888888,
              "#fdca26"
             ],
             [
              1,
              "#f0f921"
             ]
            ],
            "type": "contour"
           }
          ],
          "contourcarpet": [
           {
            "colorbar": {
             "outlinewidth": 0,
             "ticks": ""
            },
            "type": "contourcarpet"
           }
          ],
          "heatmap": [
           {
            "colorbar": {
             "outlinewidth": 0,
             "ticks": ""
            },
            "colorscale": [
             [
              0,
              "#0d0887"
             ],
             [
              0.1111111111111111,
              "#46039f"
             ],
             [
              0.2222222222222222,
              "#7201a8"
             ],
             [
              0.3333333333333333,
              "#9c179e"
             ],
             [
              0.4444444444444444,
              "#bd3786"
             ],
             [
              0.5555555555555556,
              "#d8576b"
             ],
             [
              0.6666666666666666,
              "#ed7953"
             ],
             [
              0.7777777777777778,
              "#fb9f3a"
             ],
             [
              0.8888888888888888,
              "#fdca26"
             ],
             [
              1,
              "#f0f921"
             ]
            ],
            "type": "heatmap"
           }
          ],
          "histogram": [
           {
            "marker": {
             "pattern": {
              "fillmode": "overlay",
              "size": 10,
              "solidity": 0.2
             }
            },
            "type": "histogram"
           }
          ],
          "histogram2d": [
           {
            "colorbar": {
             "outlinewidth": 0,
             "ticks": ""
            },
            "colorscale": [
             [
              0,
              "#0d0887"
             ],
             [
              0.1111111111111111,
              "#46039f"
             ],
             [
              0.2222222222222222,
              "#7201a8"
             ],
             [
              0.3333333333333333,
              "#9c179e"
             ],
             [
              0.4444444444444444,
              "#bd3786"
             ],
             [
              0.5555555555555556,
              "#d8576b"
             ],
             [
              0.6666666666666666,
              "#ed7953"
             ],
             [
              0.7777777777777778,
              "#fb9f3a"
             ],
             [
              0.8888888888888888,
              "#fdca26"
             ],
             [
              1,
              "#f0f921"
             ]
            ],
            "type": "histogram2d"
           }
          ],
          "histogram2dcontour": [
           {
            "colorbar": {
             "outlinewidth": 0,
             "ticks": ""
            },
            "colorscale": [
             [
              0,
              "#0d0887"
             ],
             [
              0.1111111111111111,
              "#46039f"
             ],
             [
              0.2222222222222222,
              "#7201a8"
             ],
             [
              0.3333333333333333,
              "#9c179e"
             ],
             [
              0.4444444444444444,
              "#bd3786"
             ],
             [
              0.5555555555555556,
              "#d8576b"
             ],
             [
              0.6666666666666666,
              "#ed7953"
             ],
             [
              0.7777777777777778,
              "#fb9f3a"
             ],
             [
              0.8888888888888888,
              "#fdca26"
             ],
             [
              1,
              "#f0f921"
             ]
            ],
            "type": "histogram2dcontour"
           }
          ],
          "mesh3d": [
           {
            "colorbar": {
             "outlinewidth": 0,
             "ticks": ""
            },
            "type": "mesh3d"
           }
          ],
          "parcoords": [
           {
            "line": {
             "colorbar": {
              "outlinewidth": 0,
              "ticks": ""
             }
            },
            "type": "parcoords"
           }
          ],
          "pie": [
           {
            "automargin": true,
            "type": "pie"
           }
          ],
          "scatter": [
           {
            "fillpattern": {
             "fillmode": "overlay",
             "size": 10,
             "solidity": 0.2
            },
            "type": "scatter"
           }
          ],
          "scatter3d": [
           {
            "line": {
             "colorbar": {
              "outlinewidth": 0,
              "ticks": ""
             }
            },
            "marker": {
             "colorbar": {
              "outlinewidth": 0,
              "ticks": ""
             }
            },
            "type": "scatter3d"
           }
          ],
          "scattercarpet": [
           {
            "marker": {
             "colorbar": {
              "outlinewidth": 0,
              "ticks": ""
             }
            },
            "type": "scattercarpet"
           }
          ],
          "scattergeo": [
           {
            "marker": {
             "colorbar": {
              "outlinewidth": 0,
              "ticks": ""
             }
            },
            "type": "scattergeo"
           }
          ],
          "scattergl": [
           {
            "marker": {
             "colorbar": {
              "outlinewidth": 0,
              "ticks": ""
             }
            },
            "type": "scattergl"
           }
          ],
          "scattermap": [
           {
            "marker": {
             "colorbar": {
              "outlinewidth": 0,
              "ticks": ""
             }
            },
            "type": "scattermap"
           }
          ],
          "scattermapbox": [
           {
            "marker": {
             "colorbar": {
              "outlinewidth": 0,
              "ticks": ""
             }
            },
            "type": "scattermapbox"
           }
          ],
          "scatterpolar": [
           {
            "marker": {
             "colorbar": {
              "outlinewidth": 0,
              "ticks": ""
             }
            },
            "type": "scatterpolar"
           }
          ],
          "scatterpolargl": [
           {
            "marker": {
             "colorbar": {
              "outlinewidth": 0,
              "ticks": ""
             }
            },
            "type": "scatterpolargl"
           }
          ],
          "scatterternary": [
           {
            "marker": {
             "colorbar": {
              "outlinewidth": 0,
              "ticks": ""
             }
            },
            "type": "scatterternary"
           }
          ],
          "surface": [
           {
            "colorbar": {
             "outlinewidth": 0,
             "ticks": ""
            },
            "colorscale": [
             [
              0,
              "#0d0887"
             ],
             [
              0.1111111111111111,
              "#46039f"
             ],
             [
              0.2222222222222222,
              "#7201a8"
             ],
             [
              0.3333333333333333,
              "#9c179e"
             ],
             [
              0.4444444444444444,
              "#bd3786"
             ],
             [
              0.5555555555555556,
              "#d8576b"
             ],
             [
              0.6666666666666666,
              "#ed7953"
             ],
             [
              0.7777777777777778,
              "#fb9f3a"
             ],
             [
              0.8888888888888888,
              "#fdca26"
             ],
             [
              1,
              "#f0f921"
             ]
            ],
            "type": "surface"
           }
          ],
          "table": [
           {
            "cells": {
             "fill": {
              "color": "#EBF0F8"
             },
             "line": {
              "color": "white"
             }
            },
            "header": {
             "fill": {
              "color": "#C8D4E3"
             },
             "line": {
              "color": "white"
             }
            },
            "type": "table"
           }
          ]
         },
         "layout": {
          "annotationdefaults": {
           "arrowcolor": "#2a3f5f",
           "arrowhead": 0,
           "arrowwidth": 1
          },
          "autotypenumbers": "strict",
          "coloraxis": {
           "colorbar": {
            "outlinewidth": 0,
            "ticks": ""
           }
          },
          "colorscale": {
           "diverging": [
            [
             0,
             "#8e0152"
            ],
            [
             0.1,
             "#c51b7d"
            ],
            [
             0.2,
             "#de77ae"
            ],
            [
             0.3,
             "#f1b6da"
            ],
            [
             0.4,
             "#fde0ef"
            ],
            [
             0.5,
             "#f7f7f7"
            ],
            [
             0.6,
             "#e6f5d0"
            ],
            [
             0.7,
             "#b8e186"
            ],
            [
             0.8,
             "#7fbc41"
            ],
            [
             0.9,
             "#4d9221"
            ],
            [
             1,
             "#276419"
            ]
           ],
           "sequential": [
            [
             0,
             "#0d0887"
            ],
            [
             0.1111111111111111,
             "#46039f"
            ],
            [
             0.2222222222222222,
             "#7201a8"
            ],
            [
             0.3333333333333333,
             "#9c179e"
            ],
            [
             0.4444444444444444,
             "#bd3786"
            ],
            [
             0.5555555555555556,
             "#d8576b"
            ],
            [
             0.6666666666666666,
             "#ed7953"
            ],
            [
             0.7777777777777778,
             "#fb9f3a"
            ],
            [
             0.8888888888888888,
             "#fdca26"
            ],
            [
             1,
             "#f0f921"
            ]
           ],
           "sequentialminus": [
            [
             0,
             "#0d0887"
            ],
            [
             0.1111111111111111,
             "#46039f"
            ],
            [
             0.2222222222222222,
             "#7201a8"
            ],
            [
             0.3333333333333333,
             "#9c179e"
            ],
            [
             0.4444444444444444,
             "#bd3786"
            ],
            [
             0.5555555555555556,
             "#d8576b"
            ],
            [
             0.6666666666666666,
             "#ed7953"
            ],
            [
             0.7777777777777778,
             "#fb9f3a"
            ],
            [
             0.8888888888888888,
             "#fdca26"
            ],
            [
             1,
             "#f0f921"
            ]
           ]
          },
          "colorway": [
           "#636efa",
           "#EF553B",
           "#00cc96",
           "#ab63fa",
           "#FFA15A",
           "#19d3f3",
           "#FF6692",
           "#B6E880",
           "#FF97FF",
           "#FECB52"
          ],
          "font": {
           "color": "#2a3f5f"
          },
          "geo": {
           "bgcolor": "white",
           "lakecolor": "white",
           "landcolor": "white",
           "showlakes": true,
           "showland": true,
           "subunitcolor": "#C8D4E3"
          },
          "hoverlabel": {
           "align": "left"
          },
          "hovermode": "closest",
          "mapbox": {
           "style": "light"
          },
          "paper_bgcolor": "white",
          "plot_bgcolor": "white",
          "polar": {
           "angularaxis": {
            "gridcolor": "#EBF0F8",
            "linecolor": "#EBF0F8",
            "ticks": ""
           },
           "bgcolor": "white",
           "radialaxis": {
            "gridcolor": "#EBF0F8",
            "linecolor": "#EBF0F8",
            "ticks": ""
           }
          },
          "scene": {
           "xaxis": {
            "backgroundcolor": "white",
            "gridcolor": "#DFE8F3",
            "gridwidth": 2,
            "linecolor": "#EBF0F8",
            "showbackground": true,
            "ticks": "",
            "zerolinecolor": "#EBF0F8"
           },
           "yaxis": {
            "backgroundcolor": "white",
            "gridcolor": "#DFE8F3",
            "gridwidth": 2,
            "linecolor": "#EBF0F8",
            "showbackground": true,
            "ticks": "",
            "zerolinecolor": "#EBF0F8"
           },
           "zaxis": {
            "backgroundcolor": "white",
            "gridcolor": "#DFE8F3",
            "gridwidth": 2,
            "linecolor": "#EBF0F8",
            "showbackground": true,
            "ticks": "",
            "zerolinecolor": "#EBF0F8"
           }
          },
          "shapedefaults": {
           "line": {
            "color": "#2a3f5f"
           }
          },
          "ternary": {
           "aaxis": {
            "gridcolor": "#DFE8F3",
            "linecolor": "#A2B1C6",
            "ticks": ""
           },
           "baxis": {
            "gridcolor": "#DFE8F3",
            "linecolor": "#A2B1C6",
            "ticks": ""
           },
           "bgcolor": "white",
           "caxis": {
            "gridcolor": "#DFE8F3",
            "linecolor": "#A2B1C6",
            "ticks": ""
           }
          },
          "title": {
           "x": 0.05
          },
          "xaxis": {
           "automargin": true,
           "gridcolor": "#EBF0F8",
           "linecolor": "#EBF0F8",
           "ticks": "",
           "title": {
            "standoff": 15
           },
           "zerolinecolor": "#EBF0F8",
           "zerolinewidth": 2
          },
          "yaxis": {
           "automargin": true,
           "gridcolor": "#EBF0F8",
           "linecolor": "#EBF0F8",
           "ticks": "",
           "title": {
            "standoff": 15
           },
           "zerolinecolor": "#EBF0F8",
           "zerolinewidth": 2
          }
         }
        },
        "title": {
         "text": "📊 2024 Revenue and International Exposure of Canada's Top 5 Banks"
        },
        "xaxis": {
         "title": {
          "text": "Bank"
         }
        },
        "yaxis": {
         "side": "left",
         "title": {
          "text": "Revenue (B CAD)"
         }
        },
        "yaxis2": {
         "overlaying": "y",
         "side": "right",
         "title": {
          "text": "% International Revenue"
         }
        }
       }
      },
      "image/png": "[encoded data removed]"
     },
     "metadata": {},
     "output_type": "display_data"
    },
    {
     "data": {
      "image/png": "[encoded data removed]",
      "text/plain": [
       "<Figure size 800x500 with 2 Axes>"
      ]
     },
     "metadata": {},
     "output_type": "display_data"
    }
   ],
   "source": [
    "# Data setup-(Data for top 5 Canadian banks (2024 estimates)\n",
    "\n",
    "data = {\n",
    "    \"Bank\": [\"RBC\", \"TD\", \"Scotiabank\", \"BMO\", \"CIBC\"],\n",
    "    \"Revenue (B CAD)\": [57.3, 52, 33.7, 31, 21],\n",
    "    \"Net Income (B CAD)\": [16.24, 11, 7.89, 5, 3.5],\n",
    "    \"% International Revenue\": [28, 35, 31, 25, 15]\n",
    "}\n",
    "df = pd.DataFrame(data)\n",
    "\n",
    "# Create figure and axis\n",
    "# Plotly Dashboard: Bar + Line (Dual Axis)\n",
    "\n",
    "fig = go.Figure()\n",
    "# Bar chart for revenue\n",
    "\n",
    "fig.add_trace(go.Bar(\n",
    "    x=df[\"Bank\"],\n",
    "    y=df[\"Revenue (B CAD)\"],\n",
    "    name=\"Revenue (B CAD)\",\n",
    "    marker_color='skyblue',\n",
    "    yaxis='y1'\n",
    "))\n",
    "\n",
    "# Line chart for international revenue percentage\n",
    "\n",
    "fig.add_trace(go.Scatter(\n",
    "    x=df[\"Bank\"],\n",
    "    y=df[\"% International Revenue\"],\n",
    "    name=\"% International Revenue\",\n",
    "    mode='lines+markers+text',\n",
    "    text=df[\"% International Revenue\"].astype(str) + '%',\n",
    "    textposition='top center',\n",
    "    yaxis='y2',\n",
    "    line=dict(color='green', width=3)\n",
    "))\n",
    "# # Title and layout\n",
    "\n",
    "fig.update_layout(\n",
    "    title=\"📊 2024 Revenue and International Exposure of Canada's Top 5 Banks\",\n",
    "    xaxis=dict(title=\"Bank\"),\n",
    "    yaxis=dict(title=\"Revenue (B CAD)\", side='left'),\n",
    "    yaxis2=dict(title=\"% International Revenue\", overlaying='y', side='right'),\n",
    "    legend=dict(x=0.01, y=0.99),\n",
    "    template='plotly_white',\n",
    "    height=600\n",
    ")\n",
    "\n",
    "fig.show()\n",
    "\n",
    "# Seaborn Heatmap for Correlation\n",
    "\n",
    "corr = df.drop(columns=\"Bank\").corr()\n",
    "plt.figure(figsize=(8, 5))\n",
    "sns.heatmap(corr, annot=True, cmap=\"Blues\", fmt=\".2f\")\n",
    "plt.title(\"Correlation Matrix: Revenue, Net Income & Intl Exposure\")\n",
    "plt.tight_layout()\n",
    "plt.show()"
   ]
  },
  {
   "cell_type": "markdown",
   "id": "5d15c4ce-c31e-45e8-be6f-393ea6a65f10",
   "metadata": {},
   "source": [
    "## What the chart tells us:\n",
    "\n",
    " • RBC has the highest total revenue at 57.3 billion CAD, with about 28% of that coming from international markets.\n",
    " \n",
    " • TD follows with a total revenue of 52 billion CAD, but it has the highest international revenue share at 35%. \n",
    "   This suggests TD relies more on global operations compared to  RBC.\n",
    "   \n",
    " • Scotiabank and BMO have similar revenues (33.7 billion CAD and 31 billion CAD respectively), with international revenue shares of 31% and 25%.\n",
    " \n",
    " • CIBC has the smallest revenue among the top five at 21 billion CAD and also the lowest international exposure at 15%.\n",
    " \n",
    " o\tRevenue and Net Income have a very strong positive correlation of 0.96. This means that banks with higher revenue tend to have higher net income,      which makes sense financially.\n",
    " \n",
    "o\tRevenue and % International Revenue have a moderately strong correlation of 0.73, indicating that banks with higher revenue also tend to have a        higher share of international revenue, but the relationship is less tight.\n",
    "\n",
    "o\tNet Income and % International Revenue have a moderate correlation of 0.60, suggesting that higher net income somewhat relates to higher               international revenue exposure, but the link is weaker compared to the others.\n",
    "\n",
    "Main takeaway:\n",
    "o\tRevenue and net income are closely connected for these banks.\n",
    "o\tThe share of international revenue also has a positive, but weaker, relationship with the other two metrics, indicating that international             business plays a role but isn't the sole driver of revenue and profit.\n",
    "\n"
   ]
  },
  {
   "cell_type": "code",
   "execution_count": null,
   "id": "5c029304-e5aa-4ed7-9b70-fe1aba52caa8",
   "metadata": {},
   "outputs": [],
   "source": []
  }
 ],
 "metadata": {
  "kernelspec": {
   "display_name": "Python 3 (ipykernel)",
   "language": "python",
   "name": "python3"
  },
  "language_info": {
   "codemirror_mode": {
    "name": "ipython",
    "version": 3
   },
   "file_extension": ".py",
   "mimetype": "text/x-python",
   "name": "python",
   "nbconvert_exporter": "python",
   "pygments_lexer": "ipython3",
   "version": "3.13.5"
  }
 },
 "nbformat": 4,
 "nbformat_minor": 5
}
